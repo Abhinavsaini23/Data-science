{
 "cells": [
  {
   "cell_type": "markdown",
   "id": "1dce2d44-5622-413f-b299-c976b7947aad",
   "metadata": {},
   "source": [
    "# Data Science Tools and Ecosystem"
   ]
  },
  {
   "cell_type": "markdown",
   "id": "1b4d2363-0861-419a-a7ec-daf48a0ebf5f",
   "metadata": {},
   "source": [
    "In this notebook, Data Science Tools and Ecosystem are summarized.\n"
   ]
  },
  {
   "cell_type": "markdown",
   "id": "59f5b56b-af94-4997-b49e-3be1a3950259",
   "metadata": {},
   "source": [
    "**Objectives**\n",
    "- Popular languages for data science\n",
    "- Commonly used libraries used by Data Scientists \n",
    "- Data science tools"
   ]
  },
  {
   "cell_type": "markdown",
   "id": "3965f02a-9b84-4795-8869-993f7ed3c8dd",
   "metadata": {},
   "source": [
    "Some of the popular languages that Data Scientists use are:\n",
    "1. Python\n",
    "2. Scala\n",
    "3. Java\n",
    "4. Julia"
   ]
  },
  {
   "cell_type": "markdown",
   "id": "7a1c65e8-171c-4f1c-8a32-171121d2af0a",
   "metadata": {},
   "source": [
    "Some of the commonly used libraries used by Data Scientists include:\n",
    "1. Pandas\n",
    "2. Numpy\n",
    "3. Tensorflow"
   ]
  },
  {
   "cell_type": "markdown",
   "id": "688f8035-d015-4878-a7f9-0a482e3ae6d0",
   "metadata": {},
   "source": [
    "|Data Science Tools|\n",
    "---------------------------\n",
    "|Jupyter Notebooks|\n",
    "|Zeppelin Notebook|\n",
    "|R Studio|"
   ]
  },
  {
   "cell_type": "markdown",
   "id": "8af81a1b-1489-4fab-897f-d3d9929362eb",
   "metadata": {},
   "source": [
    "### Below are a few examples of evaluating arithmetic expressions in Python.\n"
   ]
  },
  {
   "cell_type": "code",
   "execution_count": 15,
   "id": "3a90fcab-aced-4932-b01a-1c5dd4bec10d",
   "metadata": {},
   "outputs": [
    {
     "data": {
      "text/plain": [
       "17"
      ]
     },
     "execution_count": 15,
     "metadata": {},
     "output_type": "execute_result"
    }
   ],
   "source": [
    "# This a simple arithmetic expression to mutiply then add integers.\n",
    "(3*4)+5"
   ]
  },
  {
   "cell_type": "code",
   "execution_count": 17,
   "id": "99ecc157-c7ee-4de5-b1fe-3c36075e9f07",
   "metadata": {},
   "outputs": [
    {
     "data": {
      "text/plain": [
       "3.3333333333333335"
      ]
     },
     "execution_count": 17,
     "metadata": {},
     "output_type": "execute_result"
    }
   ],
   "source": [
    "# This will convert 200 minutes to hours by diving by 60\n",
    "200/60"
   ]
  },
  {
   "cell_type": "markdown",
   "id": "bc93df75-193d-413c-a1f3-7a97d5d55cd1",
   "metadata": {},
   "source": [
    "## Author\n",
    "Abhinav Saini"
   ]
  },
  {
   "cell_type": "code",
   "execution_count": null,
   "id": "7fa3fa52-79ac-4104-8e6c-f2bd78aaa3f8",
   "metadata": {},
   "outputs": [],
   "source": []
  }
 ],
 "metadata": {
  "kernelspec": {
   "display_name": "Python 3 (ipykernel)",
   "language": "python",
   "name": "python3"
  },
  "language_info": {
   "codemirror_mode": {
    "name": "ipython",
    "version": 3
   },
   "file_extension": ".py",
   "mimetype": "text/x-python",
   "name": "python",
   "nbconvert_exporter": "python",
   "pygments_lexer": "ipython3",
   "version": "3.10.9"
  }
 },
 "nbformat": 4,
 "nbformat_minor": 5
}
